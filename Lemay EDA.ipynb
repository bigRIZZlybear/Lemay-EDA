{
 "cells": [
  {
   "cell_type": "code",
   "execution_count": 81,
   "id": "8c97670f",
   "metadata": {},
   "outputs": [
    {
     "name": "stderr",
     "output_type": "stream",
     "text": [
      "[nltk_data] Downloading package stopwords to c:\\users\\nicholas\n",
      "[nltk_data]     rizzo\\python\\nltk_data...\n",
      "[nltk_data]   Package stopwords is already up-to-date!\n"
     ]
    }
   ],
   "source": [
    "import pandas as pd\n",
    "from datasets import load_dataset\n",
    "import matplotlib.pyplot as plt\n",
    "import string\n",
    "import re\n",
    "import nltk\n",
    "nltk.download('stopwords')\n",
    "from nltk.corpus import stopwords\n",
    "from collections import Counter\n",
    "from textblob import TextBlob"
   ]
  },
  {
   "cell_type": "code",
   "execution_count": 66,
   "id": "044c6e92",
   "metadata": {},
   "outputs": [
    {
     "name": "stderr",
     "output_type": "stream",
     "text": [
      "Using custom data configuration default\n",
      "Reusing dataset rotten_tomatoes_movie_review (C:\\Users\\Nicholas Rizzo\\.cache\\huggingface\\datasets\\rotten_tomatoes_movie_review\\default\\1.0.0\\40d411e45a6ce3484deed7cc15b82a53dad9a72aafd9f86f8f227134bec5ca46)\n"
     ]
    },
    {
     "data": {
      "text/html": [
       "<div>\n",
       "<style scoped>\n",
       "    .dataframe tbody tr th:only-of-type {\n",
       "        vertical-align: middle;\n",
       "    }\n",
       "\n",
       "    .dataframe tbody tr th {\n",
       "        vertical-align: top;\n",
       "    }\n",
       "\n",
       "    .dataframe thead th {\n",
       "        text-align: right;\n",
       "    }\n",
       "</style>\n",
       "<table border=\"1\" class=\"dataframe\">\n",
       "  <thead>\n",
       "    <tr style=\"text-align: right;\">\n",
       "      <th></th>\n",
       "      <th>text</th>\n",
       "      <th>label</th>\n",
       "    </tr>\n",
       "  </thead>\n",
       "  <tbody>\n",
       "    <tr>\n",
       "      <th>0</th>\n",
       "      <td>compassionately explores the seemingly irrecon...</td>\n",
       "      <td>1</td>\n",
       "    </tr>\n",
       "    <tr>\n",
       "      <th>1</th>\n",
       "      <td>the soundtrack alone is worth the price of adm...</td>\n",
       "      <td>1</td>\n",
       "    </tr>\n",
       "    <tr>\n",
       "      <th>2</th>\n",
       "      <td>rodriguez does a splendid job of racial profil...</td>\n",
       "      <td>1</td>\n",
       "    </tr>\n",
       "    <tr>\n",
       "      <th>3</th>\n",
       "      <td>beneath the film's obvious determination to sh...</td>\n",
       "      <td>1</td>\n",
       "    </tr>\n",
       "    <tr>\n",
       "      <th>4</th>\n",
       "      <td>bielinsky is a filmmaker of impressive talent .</td>\n",
       "      <td>1</td>\n",
       "    </tr>\n",
       "  </tbody>\n",
       "</table>\n",
       "</div>"
      ],
      "text/plain": [
       "                                                text  label\n",
       "0  compassionately explores the seemingly irrecon...      1\n",
       "1  the soundtrack alone is worth the price of adm...      1\n",
       "2  rodriguez does a splendid job of racial profil...      1\n",
       "3  beneath the film's obvious determination to sh...      1\n",
       "4    bielinsky is a filmmaker of impressive talent .      1"
      ]
     },
     "execution_count": 66,
     "metadata": {},
     "output_type": "execute_result"
    }
   ],
   "source": [
    "#Load dataset \n",
    "data = load_dataset(\"rotten_tomatoes\", split='validation')\n",
    "\n",
    "#Make dataset a dataframe\n",
    "df = pd.DataFrame(data)\n",
    "df.head()"
   ]
  },
  {
   "cell_type": "code",
   "execution_count": 67,
   "id": "d3f925db",
   "metadata": {},
   "outputs": [],
   "source": [
    "#Calculate total words\n",
    "df['totalwords'] = [len(x.split()) for x in df['text'].tolist()]\n",
    "\n",
    "#Seperate dataset into neagtive and positive dataset\n",
    "df1 = df[df['label'] == 1]\n",
    "df0 = df[df['label'] == 0]"
   ]
  },
  {
   "cell_type": "code",
   "execution_count": 88,
   "id": "f2642aab",
   "metadata": {},
   "outputs": [
    {
     "data": {
      "text/plain": [
       "Text(0.5, 1.0, 'Histogram of Word Count all Reviews')"
      ]
     },
     "execution_count": 88,
     "metadata": {},
     "output_type": "execute_result"
    },
    {
     "data": {
      "image/png": "[encoded data removed]",
      "text/plain": [
       "<Figure size 432x288 with 1 Axes>"
      ]
     },
     "metadata": {
      "needs_background": "light"
     },
     "output_type": "display_data"
    }
   ],
   "source": [
    "#Create plot\n",
    "plt.hist(x=df['totalwords'])\n",
    "plt.xlabel('Word Count') \n",
    "plt.ylabel('Count') \n",
    "plt.title(\"Histogram of Word Count all Reviews\")"
   ]
  },
  {
   "cell_type": "code",
   "execution_count": 90,
   "id": "3b7b3cee",
   "metadata": {},
   "outputs": [
    {
     "data": {
      "text/plain": [
       "Text(0.5, 1.0, 'Histogram of Word Count Positive Reviews')"
      ]
     },
     "execution_count": 90,
     "metadata": {},
     "output_type": "execute_result"
    },
    {
     "data": {
      "image/png": "[encoded data removed]",
      "text/plain": [
       "<Figure size 432x288 with 1 Axes>"
      ]
     },
     "metadata": {
      "needs_background": "light"
     },
     "output_type": "display_data"
    }
   ],
   "source": [
    "#Create plot\n",
    "plt.hist(x=df1['totalwords'])\n",
    "plt.xlabel('Word Count') \n",
    "plt.ylabel('Count') \n",
    "plt.title(\"Histogram of Word Count Positive Reviews\")"
   ]
  },
  {
   "cell_type": "code",
   "execution_count": 91,
   "id": "42e51889",
   "metadata": {},
   "outputs": [
    {
     "data": {
      "text/plain": [
       "Text(0.5, 1.0, 'Histogram of Word Count Negative Reviews')"
      ]
     },
     "execution_count": 91,
     "metadata": {},
     "output_type": "execute_result"
    },
    {
     "data": {
      "image/png": "[encoded data removed]",
      "text/plain": [
       "<Figure size 432x288 with 1 Axes>"
      ]
     },
     "metadata": {
      "needs_background": "light"
     },
     "output_type": "display_data"
    }
   ],
   "source": [
    "#Create plot\n",
    "plt.hist(x=df0['totalwords'])\n",
    "plt.xlabel('Word Count') \n",
    "plt.ylabel('Count') \n",
    "plt.title(\"Histogram of Word Count Negative Reviews\")"
   ]
  },
  {
   "cell_type": "code",
   "execution_count": 71,
   "id": "526eef5d",
   "metadata": {},
   "outputs": [
    {
     "data": {
      "text/plain": [
       "count    533.000000\n",
       "mean      21.440901\n",
       "std        9.849945\n",
       "min        3.000000\n",
       "25%       14.000000\n",
       "50%       21.000000\n",
       "75%       27.000000\n",
       "max       50.000000\n",
       "Name: totalwords, dtype: float64"
      ]
     },
     "execution_count": 71,
     "metadata": {},
     "output_type": "execute_result"
    }
   ],
   "source": [
    "#Show stats for positive total words\n",
    "df1['totalwords'].describe()"
   ]
  },
  {
   "cell_type": "code",
   "execution_count": 72,
   "id": "dd38ef4d",
   "metadata": {},
   "outputs": [
    {
     "data": {
      "text/plain": [
       "count    533.000000\n",
       "mean      20.553471\n",
       "std        9.413609\n",
       "min        1.000000\n",
       "25%       13.000000\n",
       "50%       20.000000\n",
       "75%       26.000000\n",
       "max       54.000000\n",
       "Name: totalwords, dtype: float64"
      ]
     },
     "execution_count": 72,
     "metadata": {},
     "output_type": "execute_result"
    }
   ],
   "source": [
    "#Show stats for negative total words\n",
    "df0['totalwords'].describe()"
   ]
  },
  {
   "cell_type": "code",
   "execution_count": 73,
   "id": "7d5c036f",
   "metadata": {},
   "outputs": [],
   "source": [
    "#Function to clean data\n",
    "def review_cleaning(text):\n",
    "    text = str(text).lower()\n",
    "    text = re.sub('\\[.*?\\]', '', text)\n",
    "    text = re.sub('https?://\\S+|www\\.\\S+', '', text)\n",
    "    text = re.sub('<.*?>+', '', text)\n",
    "    text = re.sub('[%s]' % re.escape(string.punctuation), '', text)\n",
    "    text = re.sub('\\n', '', text)\n",
    "    text = re.sub('\\w*\\d\\w*', '', text)\n",
    "    return text"
   ]
  },
  {
   "cell_type": "code",
   "execution_count": 74,
   "id": "43e90e94",
   "metadata": {},
   "outputs": [
    {
     "name": "stderr",
     "output_type": "stream",
     "text": [
      "<ipython-input-74-9b094fe74f5e>:1: SettingWithCopyWarning: \n",
      "A value is trying to be set on a copy of a slice from a DataFrame.\n",
      "Try using .loc[row_indexer,col_indexer] = value instead\n",
      "\n",
      "See the caveats in the documentation: https://pandas.pydata.org/pandas-docs/stable/user_guide/indexing.html#returning-a-view-versus-a-copy\n",
      "  df1['text']=df1['text'].apply(lambda x:review_cleaning(x))\n",
      "<ipython-input-74-9b094fe74f5e>:2: SettingWithCopyWarning: \n",
      "A value is trying to be set on a copy of a slice from a DataFrame.\n",
      "Try using .loc[row_indexer,col_indexer] = value instead\n",
      "\n",
      "See the caveats in the documentation: https://pandas.pydata.org/pandas-docs/stable/user_guide/indexing.html#returning-a-view-versus-a-copy\n",
      "  df0['text']=df0['text'].apply(lambda x:review_cleaning(x))\n"
     ]
    }
   ],
   "source": [
    "#Apply clean function to positive and negative datasets\n",
    "df1['text']=df1['text'].apply(lambda x:review_cleaning(x))\n",
    "df0['text']=df0['text'].apply(lambda x:review_cleaning(x))"
   ]
  },
  {
   "cell_type": "code",
   "execution_count": 76,
   "id": "a1130695",
   "metadata": {},
   "outputs": [
    {
     "name": "stderr",
     "output_type": "stream",
     "text": [
      "<ipython-input-76-241f51467fd3>:3: SettingWithCopyWarning: \n",
      "A value is trying to be set on a copy of a slice from a DataFrame.\n",
      "Try using .loc[row_indexer,col_indexer] = value instead\n",
      "\n",
      "See the caveats in the documentation: https://pandas.pydata.org/pandas-docs/stable/user_guide/indexing.html#returning-a-view-versus-a-copy\n",
      "  df1['text_no_stopwords'] = df1['text'].apply(lambda x: ' '.join([word for word in x.split() if word not in (stop)]))\n",
      "<ipython-input-76-241f51467fd3>:4: SettingWithCopyWarning: \n",
      "A value is trying to be set on a copy of a slice from a DataFrame.\n",
      "Try using .loc[row_indexer,col_indexer] = value instead\n",
      "\n",
      "See the caveats in the documentation: https://pandas.pydata.org/pandas-docs/stable/user_guide/indexing.html#returning-a-view-versus-a-copy\n",
      "  df0['text_no_stopwords'] = df0['text'].apply(lambda x: ' '.join([word for word in x.split() if word not in (stop)]))\n"
     ]
    }
   ],
   "source": [
    "#create columns with no stop words\n",
    "stop=stopwords.words('english')\n",
    "df1['text_no_stopwords'] = df1['text'].apply(lambda x: ' '.join([word for word in x.split() if word not in (stop)]))\n",
    "df0['text_no_stopwords'] = df0['text'].apply(lambda x: ' '.join([word for word in x.split() if word not in (stop)]))"
   ]
  },
  {
   "cell_type": "code",
   "execution_count": 79,
   "id": "8362f290",
   "metadata": {},
   "outputs": [
    {
     "data": {
      "text/plain": [
       "[('film', 108),\n",
       " ('movie', 47),\n",
       " ('one', 44),\n",
       " ('like', 29),\n",
       " ('story', 29),\n",
       " ('good', 23),\n",
       " ('us', 21),\n",
       " ('funny', 21),\n",
       " ('much', 21),\n",
       " ('little', 21)]"
      ]
     },
     "execution_count": 79,
     "metadata": {},
     "output_type": "execute_result"
    }
   ],
   "source": [
    "#Show top words in positive dataset\n",
    "Counter(\" \".join(df1[\"text_no_stopwords\"]).split()).most_common(10)"
   ]
  },
  {
   "cell_type": "code",
   "execution_count": 80,
   "id": "ee323049",
   "metadata": {},
   "outputs": [
    {
     "data": {
      "text/plain": [
       "[('movie', 72),\n",
       " ('film', 58),\n",
       " ('like', 37),\n",
       " ('one', 36),\n",
       " ('much', 30),\n",
       " ('comedy', 24),\n",
       " ('story', 22),\n",
       " ('little', 22),\n",
       " ('good', 21),\n",
       " ('movies', 20)]"
      ]
     },
     "execution_count": 80,
     "metadata": {},
     "output_type": "execute_result"
    }
   ],
   "source": [
    "#Show top words in negative dataset\n",
    "Counter(\" \".join(df0[\"text_no_stopwords\"]).split()).most_common(10)"
   ]
  },
  {
   "cell_type": "code",
   "execution_count": 85,
   "id": "db7425de",
   "metadata": {},
   "outputs": [
    {
     "name": "stderr",
     "output_type": "stream",
     "text": [
      "<ipython-input-85-bcbcbb56401d>:1: SettingWithCopyWarning: \n",
      "A value is trying to be set on a copy of a slice from a DataFrame.\n",
      "Try using .loc[row_indexer,col_indexer] = value instead\n",
      "\n",
      "See the caveats in the documentation: https://pandas.pydata.org/pandas-docs/stable/user_guide/indexing.html#returning-a-view-versus-a-copy\n",
      "  df1['polarity'] = df1['text'].map(lambda text: TextBlob(text).sentiment.polarity)\n",
      "<ipython-input-85-bcbcbb56401d>:2: SettingWithCopyWarning: \n",
      "A value is trying to be set on a copy of a slice from a DataFrame.\n",
      "Try using .loc[row_indexer,col_indexer] = value instead\n",
      "\n",
      "See the caveats in the documentation: https://pandas.pydata.org/pandas-docs/stable/user_guide/indexing.html#returning-a-view-versus-a-copy\n",
      "  df0['polarity'] = df0['text'].map(lambda text: TextBlob(text).sentiment.polarity)\n"
     ]
    }
   ],
   "source": [
    "#Create polarity column for both datasets\n",
    "df1['polarity'] = df1['text'].map(lambda text: TextBlob(text).sentiment.polarity)\n",
    "df0['polarity'] = df0['text'].map(lambda text: TextBlob(text).sentiment.polarity)"
   ]
  },
  {
   "cell_type": "code",
   "execution_count": 92,
   "id": "9a6ba7a0",
   "metadata": {},
   "outputs": [
    {
     "data": {
      "text/plain": [
       "Text(0.5, 1.0, 'Histogram of Polarity for Positive Reviews')"
      ]
     },
     "execution_count": 92,
     "metadata": {},
     "output_type": "execute_result"
    },
    {
     "data": {
      "image/png": "[encoded data removed]",
      "text/plain": [
       "<Figure size 432x288 with 1 Axes>"
      ]
     },
     "metadata": {
      "needs_background": "light"
     },
     "output_type": "display_data"
    }
   ],
   "source": [
    "#Create plot\n",
    "plt.hist(x=df1['polarity'])\n",
    "plt.xlabel('Polarity') \n",
    "plt.ylabel('Count') \n",
    "plt.title(\"Histogram of Polarity for Positive Reviews\")"
   ]
  },
  {
   "cell_type": "code",
   "execution_count": 93,
   "id": "57a3bbce",
   "metadata": {},
   "outputs": [
    {
     "data": {
      "text/plain": [
       "Text(0.5, 1.0, 'Histogram of Polarity for Negative Reviews')"
      ]
     },
     "execution_count": 93,
     "metadata": {},
     "output_type": "execute_result"
    },
    {
     "data": {
      "image/png": "[encoded data removed]",
      "text/plain": [
       "<Figure size 432x288 with 1 Axes>"
      ]
     },
     "metadata": {
      "needs_background": "light"
     },
     "output_type": "display_data"
    }
   ],
   "source": [
    "#Create plot\n",
    "plt.hist(x=df0['polarity'])\n",
    "plt.xlabel('Polarity') \n",
    "plt.ylabel('Count') \n",
    "plt.title(\"Histogram of Polarity for Negative Reviews\")"
   ]
  }
 ],
 "metadata": {
  "kernelspec": {
   "display_name": "Python 3",
   "language": "python",
   "name": "python3"
  },
  "language_info": {
   "codemirror_mode": {
    "name": "ipython",
    "version": 3
   },
   "file_extension": ".py",
   "mimetype": "text/x-python",
   "name": "python",
   "nbconvert_exporter": "python",
   "pygments_lexer": "ipython3",
   "version": "3.8.6rc1"
  }
 },
 "nbformat": 4,
 "nbformat_minor": 5
}
